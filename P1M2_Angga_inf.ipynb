{
 "cells": [
  {
   "cell_type": "markdown",
   "id": "de68eb74",
   "metadata": {},
   "source": [
    "# Milestone 2\n",
    "\n",
    "================================================\n",
    "\n",
    "Nama : Angga Fadhlurrahman Prianto\n",
    "\n",
    "**Model Inference**\n",
    "\n",
    "================================================"
   ]
  },
  {
   "cell_type": "markdown",
   "id": "3d0daf10",
   "metadata": {},
   "source": [
    "# Import Libraries"
   ]
  },
  {
   "cell_type": "code",
   "execution_count": null,
   "id": "d841997f",
   "metadata": {},
   "outputs": [],
   "source": [
    "import joblib\n",
    "import pandas as pd\n",
    "import numpy as np"
   ]
  },
  {
   "cell_type": "markdown",
   "id": "e4826a30",
   "metadata": {},
   "source": [
    "# Load Model"
   ]
  },
  {
   "cell_type": "code",
   "execution_count": null,
   "id": "c9b8f9c2",
   "metadata": {},
   "outputs": [],
   "source": [
    "# Load Model\n",
    "pipe = joblib.load('PipeLine_Regressi.pkl')"
   ]
  },
  {
   "cell_type": "markdown",
   "id": "e6030e8d",
   "metadata": {},
   "source": [
    "# Test Predict Dengan Data Dummy"
   ]
  },
  {
   "cell_type": "code",
   "execution_count": 11,
   "id": "a685df3a",
   "metadata": {},
   "outputs": [
    {
     "data": {
      "text/html": [
       "<div>\n",
       "<style scoped>\n",
       "    .dataframe tbody tr th:only-of-type {\n",
       "        vertical-align: middle;\n",
       "    }\n",
       "\n",
       "    .dataframe tbody tr th {\n",
       "        vertical-align: top;\n",
       "    }\n",
       "\n",
       "    .dataframe thead th {\n",
       "        text-align: right;\n",
       "    }\n",
       "</style>\n",
       "<table border=\"1\" class=\"dataframe\">\n",
       "  <thead>\n",
       "    <tr style=\"text-align: right;\">\n",
       "      <th></th>\n",
       "      <th>Car ID</th>\n",
       "      <th>Brand</th>\n",
       "      <th>Year</th>\n",
       "      <th>Engine Size</th>\n",
       "      <th>Fuel Type</th>\n",
       "      <th>Transmission</th>\n",
       "      <th>Mileage</th>\n",
       "      <th>Condition</th>\n",
       "      <th>Model</th>\n",
       "    </tr>\n",
       "  </thead>\n",
       "  <tbody>\n",
       "    <tr>\n",
       "      <th>0</th>\n",
       "      <td>1</td>\n",
       "      <td>BMW</td>\n",
       "      <td>2021</td>\n",
       "      <td>4.2</td>\n",
       "      <td>Diesel</td>\n",
       "      <td>Automatic</td>\n",
       "      <td>58600</td>\n",
       "      <td>Used</td>\n",
       "      <td>5 Series</td>\n",
       "    </tr>\n",
       "  </tbody>\n",
       "</table>\n",
       "</div>"
      ],
      "text/plain": [
       "   Car ID Brand  Year  Engine Size Fuel Type Transmission  Mileage Condition  \\\n",
       "0       1   BMW  2021          4.2    Diesel    Automatic    58600      Used   \n",
       "\n",
       "      Model  \n",
       "0  5 Series  "
      ]
     },
     "execution_count": 11,
     "metadata": {},
     "output_type": "execute_result"
    }
   ],
   "source": [
    "# Creating new data\n",
    "\n",
    "data_inference = {'Car ID' : 1,\n",
    "                  'Brand' : 'BMW',\n",
    "                  'Year' : 2021,\n",
    "                  'Engine Size' : 4.2,\n",
    "                  'Fuel Type' : 'Diesel',\n",
    "                  'Transmission' : 'Automatic',\n",
    "                  'Mileage' : 58600,\n",
    "                  'Condition' : 'Used',\n",
    "                  'Model' : '5 Series'}\n",
    "\n",
    "data_inf = pd.DataFrame(data_inference, index=[0])\n",
    "data_inf"
   ]
  },
  {
   "cell_type": "markdown",
   "id": "5b691187",
   "metadata": {},
   "source": [
    "# Predict Data"
   ]
  },
  {
   "cell_type": "code",
   "execution_count": 13,
   "id": "76047564",
   "metadata": {},
   "outputs": [
    {
     "name": "stdout",
     "output_type": "stream",
     "text": [
      "Predicted Price: $ 67,690.26\n"
     ]
    }
   ],
   "source": [
    "# Predict\n",
    "prediction = pipe.predict(data_inf)\n",
    "print(f\"Predicted Price: $ {prediction[0]:,.2f}\")"
   ]
  },
  {
   "cell_type": "markdown",
   "id": "fc71d7db",
   "metadata": {},
   "source": [
    "# Kesimpulan"
   ]
  },
  {
   "cell_type": "markdown",
   "id": "a91a92a3",
   "metadata": {},
   "source": [
    "Pada bab ini saya akan memberikan kesimpulan akhir dari apa yang telah saya lakukan. Dari keseluruhan model yang telah saya coba sebelum melakukan `hyperparameter tunning` untuk keseluruhan model sebenarnya dapat melakukan predict harga modil akan tetapi jika dilihat dari `MAE`, `MSE`, dan `R2 Score`, yang paling bagus pada model `GradientBoostingRegressor` akan tetapi jika kita melihat dari hasil `cross-validation` sebenarnya yang terbaik adalah pada model `SVR`. Alasan saya menggunakan model `GradientBoostingRegressor` adalah karena tolak ukur yang dilihat yaitu menggunakan matrix `MAE`, `MSE` dan `R2-Score`. \n",
    "\n",
    "Setelah saya melakukan pemilihan model saya melakukan `hyperparameter tunning` pada model yang saya pilih dan menghasilkan hasil predict yang lebih baik dan hasil predict menggunakan model `GradientBoostingRegressor` yang telah dilakukan `hyperparameter tunning` dapat dikatakan berhasil atau sucses."
   ]
  }
 ],
 "metadata": {
  "kernelspec": {
   "display_name": "base",
   "language": "python",
   "name": "python3"
  },
  "language_info": {
   "codemirror_mode": {
    "name": "ipython",
    "version": 3
   },
   "file_extension": ".py",
   "mimetype": "text/x-python",
   "name": "python",
   "nbconvert_exporter": "python",
   "pygments_lexer": "ipython3",
   "version": "3.12.7"
  }
 },
 "nbformat": 4,
 "nbformat_minor": 5
}
